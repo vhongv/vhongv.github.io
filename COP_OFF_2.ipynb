import tensorflow as tf
import numpy as np
import matplotlib.pyplot as plt

tf.reset_default_graph()

DimXY = 2  # 입력 파라미터 수(=2차원)
N_class = 3  # 라벨수

xy_data = np.loadtxt('data_cop.txt').tolist()
label_data = np.loadtxt('label_cop.txt').tolist()

X = tf.placeholder("float",[None, 2])
Y = tf.placeholder("float",[None, 3])

#모델정의

#모델의 출력을 아래함수의 입력값으로
Out= tf.nn.softmax()

loss = tf.reduce_sum(-Y*tf.log(Out))

epslion = 0.001
optimizer = tf.train.GradientDescentOptimizer(epslion)
train = optimizer.minimize(loss)

acc = tf.reduce_mean(tf.cast(tf.equal(tf.argmax(Y,1),tf.argmax(Out,1)),tf.float32))

init = tf.global_variables_initializer()

saver = tf.train.Saver()
with tf.Session() as sess:
    sess.run(init)
    for step in range(200000):
        _, loss_value, accuracy = sess.run([train, loss, acc], feed_dict={X: xy_data, Y: label_data})
        if  step % 20000 == 0:
            print('손실 %8.4f 정확도 %.4f' %(loss_value,accuracy))
    save_path = saver.save(sess, "./cop02.ckpt")
