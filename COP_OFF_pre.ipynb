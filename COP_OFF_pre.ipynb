{
 "cells": [
  {
   "cell_type": "code",
   "execution_count": 1,
   "metadata": {},
   "outputs": [
    {
     "name": "stdout",
     "output_type": "stream",
     "text": [
      "1.5327841\n",
      "1.4904736\n",
      "1.3145692\n",
      "1.1617167\n",
      "0.5192566\n",
      "0.03818588\n",
      "0.01407304\n",
      "0.008042432\n",
      "0.0054836054\n",
      "0.004105771\n",
      "0.0032562932\n",
      "0.0026848393\n",
      "0.0022762872\n",
      "0.0019708246\n",
      "0.001734437\n",
      "0.0015464519\n",
      "0.0013936706\n",
      "0.0012671998\n",
      "0.0011608802\n",
      "0.0010703317\n",
      "1.0\n"
     ]
    }
   ],
   "source": [
    "import tensorflow as tf\n",
    "import numpy as np\n",
    "\n",
    "x_data = [[0,1,0,1,0.5,0.6],[0,0,1,1,0.5,0.2]]\n",
    "y_data = [0, 1, 1, 0,1,0]\n",
    "\n",
    "L=2\n",
    "X = tf.placeholder(tf.float32,shape=[2,None])\n",
    "Y = tf.placeholder(tf.float32,shape=[None])\n",
    "\n",
    "\n",
    "W1 = tf.Variable(tf.random_uniform([L, 2], 0.0, 1.0))\n",
    "b1 = tf.Variable(tf.zeros([L,1]))\n",
    "Layer_1 = tf.sigmoid(tf.matmul(W1, X) + b1)\n",
    "\n",
    "W2 = tf.Variable(tf.random_uniform([L, 2], -1.0, 0))\n",
    "b2 = tf.Variable(tf.zeros([L,1]))\n",
    "Layer_2 = tf.sigmoid(tf.matmul(W2, Layer_1) + b2)\n",
    "\n",
    "W3 = tf.Variable(tf.random_uniform([1, L], -1.0, 1.0))\n",
    "b3 = tf.Variable(tf.zeros([1]))\n",
    "Out = tf.sigmoid(tf.matmul(W3,Layer_2) + b3)\n",
    "\n",
    "loss = tf.reduce_sum(tf.square(Out-Y))\n",
    "epslion =0.1\n",
    "optimizer = tf.train.GradientDescentOptimizer(epslion)\n",
    "train = optimizer.minimize(loss)\n",
    "init = tf.global_variables_initializer()\n",
    "\n",
    "with tf.Session() as sess:\n",
    "    sess.run(init)\n",
    "    for step in range(20000):\n",
    "        _, loss_value, W_1, b_1, W_2, b_2, W_3, b_3 = sess.run([train, loss, W1, b1, W2, b2, W3, b3],\n",
    "                                                                   feed_dict={X: x_data, Y: y_data})\n",
    "        if step % 1000 == 0:   \n",
    "            print(loss_value)\n",
    "    \n",
    "    correct_prediction = tf.equal(tf.floor(Out+0.5), Y) \n",
    "    accuracy = tf.reduce_mean(tf.cast(correct_prediction, 'float'))\n",
    "    print(sess.run(accuracy,feed_dict={X: x_data, Y: y_data}))\n"
   ]
  },
  {
   "cell_type": "code",
   "execution_count": 2,
   "metadata": {},
   "outputs": [
    {
     "name": "stdout",
     "output_type": "stream",
     "text": [
      "2.691425\n",
      "1.0208642\n",
      "0.42878512\n",
      "0.14240517\n",
      "0.06466534\n",
      "0.03777633\n",
      "0.025353314\n",
      "0.018486287\n",
      "0.014233055\n",
      "0.011387919\n",
      "0.009376867\n",
      "0.00789539\n",
      "0.0067681465\n",
      "0.0058878837\n",
      "0.005185539\n",
      "0.0046149483\n",
      "0.004144145\n",
      "0.0037504782\n",
      "0.0034173785\n",
      "0.003132666\n",
      "1.0\n"
     ]
    }
   ],
   "source": [
    "import tensorflow as tf\n",
    "import numpy as np\n",
    "\n",
    "x_data = [[0,1,0,1,0.5,0.6],[0,0,1,1,0.5,0.2]]\n",
    "y_data = [0, 1, 1, 0,1,0]\n",
    "\n",
    "L=10\n",
    "X = tf.placeholder(tf.float32,shape=[2,None])\n",
    "Y = tf.placeholder(tf.float32,shape=[None])\n",
    "\n",
    "\n",
    "W12 = tf.Variable(tf.random_uniform([L, 2], 0.0, 1.0))\n",
    "b12 = tf.Variable(tf.zeros([L,1]))\n",
    "Layer_1 = tf.sigmoid(tf.matmul(W12, X) + b12)\n",
    "\n",
    "\n",
    "W3 = tf.Variable(tf.random_uniform([1, L], -1.0, 0.0))\n",
    "b3 = tf.Variable(tf.zeros([1]))\n",
    "Out = tf.sigmoid(tf.matmul(W3,Layer_1) + b3)\n",
    "\n",
    "loss = tf.reduce_sum(tf.square(Out-Y))\n",
    "epslion =0.1\n",
    "optimizer = tf.train.GradientDescentOptimizer(epslion)\n",
    "train = optimizer.minimize(loss)\n",
    "init = tf.global_variables_initializer()\n",
    "\n",
    "with tf.Session() as sess:\n",
    "    sess.run(init)\n",
    "    for step in range(20000):\n",
    "        _, loss_value, wgt_12, b_12, wgt_3, b_3 = sess.run([train, loss, W12, b12, W3, b3],\n",
    "                                                                   feed_dict={X: x_data, Y: y_data})\n",
    "        if step % 1000 == 0:   \n",
    "            print(loss_value)\n",
    "    \n",
    "    correct_prediction = tf.equal(tf.floor(Out+0.5), Y) \n",
    "    accuracy = tf.reduce_mean(tf.cast(correct_prediction, 'float'))\n",
    "    print(sess.run(accuracy,feed_dict={X: x_data, Y: y_data}))\n"
   ]
  },
  {
   "cell_type": "code",
   "execution_count": 3,
   "metadata": {},
   "outputs": [
    {
     "name": "stdout",
     "output_type": "stream",
     "text": [
      "1.59191\n",
      "1.4921678\n",
      "1.1323038\n",
      "0.9699155\n",
      "0.8914046\n",
      "0.7934759\n",
      "0.70637363\n",
      "0.6504204\n",
      "0.6167316\n",
      "0.5950952\n",
      "0.58022577\n",
      "0.56942785\n",
      "0.56124216\n",
      "0.5548232\n",
      "0.5496528\n",
      "0.54539675\n",
      "0.54183024\n",
      "0.5387958\n",
      "0.5361819\n",
      "0.5339057\n",
      "0.6666667\n"
     ]
    }
   ],
   "source": [
    "import tensorflow as tf\n",
    "import numpy as np\n",
    "\n",
    "x_data = [[0,1,0,1,0.5,0.6],[0,0,1,1,0.5,0.2]]\n",
    "y_data = [0, 1, 1, 0,1,0]\n",
    "\n",
    "X = tf.placeholder(tf.float32)\n",
    "Y = tf.placeholder(tf.float32)\n",
    "W12 = tf.Variable(tf.random_uniform([2, 2], 0.0, 1.0))\n",
    "W3 = tf.Variable(tf.random_uniform([1, 2], -1.0, 0.0))\n",
    "b12 = tf.Variable(tf.zeros([2,1]))\n",
    "b3 = tf.Variable(tf.zeros([1]))\n",
    "\n",
    "Hidden = tf.sigmoid(tf.matmul(W12, X) + b12)\n",
    "Out = tf.sigmoid(tf.matmul(W3, Hidden) + b3)\n",
    "\n",
    "loss = tf.reduce_sum(tf.square(Out-Y))\n",
    "epslion = tf.Variable(0.1)\n",
    "optimizer = tf.train.GradientDescentOptimizer(epslion)\n",
    "train = optimizer.minimize(loss)\n",
    "init = tf.global_variables_initializer()\n",
    "\n",
    "with tf.Session() as sess:\n",
    "    sess.run(init)\n",
    "    for step in range(20000):\n",
    "        _, loss_value, wgt_12, b_12, wgt_3, b_3 = sess.run([train, loss, W12, b12, W3, b3],\n",
    "                                                                   feed_dict={X: x_data, Y: y_data})\n",
    "        if step % 1000 == 0:   \n",
    "            print(loss_value)\n",
    "    \n",
    "    correct_prediction = tf.equal(tf.floor(Out+0.5), Y) \n",
    "    accuracy = tf.reduce_mean(tf.cast(correct_prediction, 'float'))\n",
    "    print(sess.run(accuracy,feed_dict={X: x_data, Y: y_data}))\n"
   ]
  },
  {
   "cell_type": "code",
   "execution_count": 4,
   "metadata": {},
   "outputs": [
    {
     "name": "stdout",
     "output_type": "stream",
     "text": [
      "336.0\n"
     ]
    }
   ],
   "source": [
    "import tensorflow as tf\n",
    "\n",
    "a=tf.placeholder(\"float\")\n",
    "b=tf.placeholder(\"float\")\n",
    "\n",
    "y=tf.multiply(a,b)\n",
    "with tf.Session() as sess:\n",
    "    out= sess.run(y, feed_dict={a: 112, b: 3})  \n",
    "\n",
    "print(out)\n"
   ]
  },
  {
   "cell_type": "code",
   "execution_count": 43,
   "metadata": {},
   "outputs": [
    {
     "data": {
      "image/png": "[encoded data removed]",
      "text/plain": [
       "<Figure size 432x288 with 1 Axes>"
      ]
     },
     "metadata": {
      "needs_background": "light"
     },
     "output_type": "display_data"
    }
   ],
   "source": [
    "import numpy as np\n",
    "import matplotlib.pyplot as plt\n",
    "%matplotlib inline\n",
    "\n",
    "x_data = np.random.rand(100)\n",
    "y_data = np.random.rand(100)\n",
    "plt.scatter(x_data, y_data)\n",
    "plt.show()\n"
   ]
  }
 ],
 "metadata": {
  "kernelspec": {
   "display_name": "Python 3",
   "language": "python",
   "name": "python3"
  },
  "language_info": {
   "codemirror_mode": {
    "name": "ipython",
    "version": 3
   },
   "file_extension": ".py",
   "mimetype": "text/x-python",
   "name": "python",
   "nbconvert_exporter": "python",
   "pygments_lexer": "ipython3",
   "version": "3.6.6"
  }
 },
 "nbformat": 4,
 "nbformat_minor": 2
}
