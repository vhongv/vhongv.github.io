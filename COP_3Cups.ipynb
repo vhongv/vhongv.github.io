{
 "cells": [
  {
   "cell_type": "code",
   "execution_count": 1,
   "metadata": {},
   "outputs": [
    {
     "name": "stdout",
     "output_type": "stream",
     "text": [
      "0.33155 0.66845 100000\n"
     ]
    }
   ],
   "source": [
    "import numpy as np\n",
    "\n",
    "StZeroResult=[]\n",
    "StOneResult=[]\n",
    "\n",
    "Nums = 100000\n",
    "\n",
    "for i in range(Nums):\n",
    "    \n",
    "    #랜덤하게 'O','0','X' 를 배치한다.\n",
    "    #컵의 문자가 'X'면 보상 1를 받고, 'O'이면 보상 0을 얻는다.\n",
    "    #일반성을 잃지않고 항상 randomCup[0]을 선택한다.\n",
    "    token=['O','X','O']\n",
    "    randomCup = np.random.choice(token, 3, p=[1/3,1/3,1/3],replace=False)\n",
    "    \n",
    "    #처음에 선택한 컵을 계속 유지한다\n",
    "    if randomCup[0] == 'X':\n",
    "            StZeroResult.append(1)\n",
    "    else:\n",
    "            StZeroResult.append(0)\n",
    "    \n",
    "    #최초에 선택받지 못한 2개의 컵중 '0'있는 컵을 확인 한 후\n",
    "    #다른 나머지 하나의 컵으로 선택을 바꾼다.\n",
    "    if randomCup[1] == 'O' and randomCup[2] == 'O' :\n",
    "            StOneResult.append(0)\n",
    "    else:\n",
    "            StOneResult.append(1)\n",
    "            \n",
    "print(sum(StZeroResult)/Nums, sum(StOneResult)/Nums, len(StOneResult))"
   ]
  },
  {
   "cell_type": "code",
   "execution_count": 7,
   "metadata": {},
   "outputs": [
    {
     "name": "stdout",
     "output_type": "stream",
     "text": [
      "[0.50025 0.49975]\n",
      "[0.4536336 0.5463664]\n",
      "[0.40179296 0.59820704]\n",
      "[0.34096428 0.65903572]\n",
      "[0.26327802 0.73672198]\n",
      "[0.18317244 0.81682756]\n",
      "[0.11527054 0.88472946]\n",
      "[0.07076481 0.92923519]\n",
      "[0.03935432 0.96064568]\n",
      "[0.02087719 0.97912281]\n"
     ]
    }
   ],
   "source": [
    "import numpy as np\n",
    "\n",
    "#함수로 만듬\n",
    "def OpenTheCup(strategy):\n",
    "    \n",
    "    token=['O','X','O']\n",
    "    randomCup = np.random.choice(token, 3, p=[1/3,1/3,1/3],replace=False)\n",
    "    \n",
    "    if strategy == 0:\n",
    "        \n",
    "        if randomCup[0] == 'X':\n",
    "            return 1\n",
    "        else:\n",
    "            return 0\n",
    "    \n",
    "    if strategy == 1:\n",
    "        \n",
    "        if randomCup[1] == 'O':\n",
    "            if randomCup[2] == 'X':\n",
    "                return 1\n",
    "            else:\n",
    "                return 0\n",
    "            \n",
    "        if randomCup[2] =='O':\n",
    "            if randomCup[1] == 'X':\n",
    "                return 1\n",
    "            else:\n",
    "                return 0\n",
    "\n",
    "\n",
    "#메인시작\n",
    "\n",
    "CupStrategy = [0,1]\n",
    "#CupStrategy[0]:3개의 컵 중 최초에 선택한 것을 계속 유지한다.\n",
    "#CupStrategy[1]:최초에 선택받지 못한 2개의 컵중 비어있는 컵을 확인 한 후\n",
    "#               다른 나머지 하나의 컵으로 선택을 바꾼다.\n",
    "\n",
    "#num_stgy=2\n",
    "num_stgy = len(CupStrategy)\n",
    "\n",
    "#보상의 총합, 최초에는 [0 0]\n",
    "Reward = np.zeros([num_stgy])\n",
    "\n",
    "#전략선택확률분포(Weight), 최초에는 [0.5 0.5]\n",
    "#softmax함수로 불린다 \n",
    "#= [exp(a_1)/(exp(a_1)+exp(a_2)+...+exp(a_n)), exp(a_2)/(exp(a_1)+exp(a_2)+...+exp(a_n)), ...]\n",
    "#식에서 확인할 수 있듯이 각각은 양의 값이고 합은 1 이기 때문에 확률분포를 만들기 적합\n",
    "Selection = np.exp(Reward)/sum(np.exp(Reward))\n",
    "\n",
    "Nums = 10000\n",
    "eplison = 0.001\n",
    "\n",
    "for i in range(Nums):\n",
    "    #업데이트된 확률분포(Weight)에 따라 전략선택\n",
    "    #누적보상이 큰 전략이 높은 확률로 선택된다.\n",
    "    FixSt = np.random.choice(CupStrategy, p=Selection)\n",
    "    \n",
    "    #보상의 크기를 조절\n",
    "    Reward[FixSt] += eplison*OpenTheCup(CupStrategy[FixSt])\n",
    "    \n",
    "    #보상에 따라서 확률분포(Weight)를 업데이트\n",
    "    Selection = np.exp(Reward)/sum(np.exp(Reward))\n",
    "    \n",
    "    if i % 1000 == 0 : print(Selection)\n",
    "   "
   ]
  }
 ],
 "metadata": {
  "kernelspec": {
   "display_name": "Python 3",
   "language": "python",
   "name": "python3"
  },
  "language_info": {
   "codemirror_mode": {
    "name": "ipython",
    "version": 3
   },
   "file_extension": ".py",
   "mimetype": "text/x-python",
   "name": "python",
   "nbconvert_exporter": "python",
   "pygments_lexer": "ipython3",
   "version": "3.6.6"
  }
 },
 "nbformat": 4,
 "nbformat_minor": 2
}
