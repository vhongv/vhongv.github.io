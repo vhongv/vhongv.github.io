{
 "cells": [
  {
   "cell_type": "code",
   "execution_count": 11,
   "metadata": {},
   "outputs": [
    {
     "name": "stdout",
     "output_type": "stream",
     "text": [
      "0.0\n"
     ]
    }
   ],
   "source": [
    "import numpy as np\n",
    "import tensorflow as tf\n",
    "\n",
    "tf.reset_default_graph()\n",
    "\n",
    "X0_input = np.array([[0,0,0],[1,1,1],[2,2,2],[3,3,3]])\n",
    "X1_input = np.array([[1,1,1],[2,2,2],[3,3,3],[4,4,4]])\n",
    "\n",
    "vec_size = 3\n",
    "weight_size = 5\n",
    "out_size = 1\n",
    "\n",
    "x0=tf.placeholder(tf.float32, [None, vec_size])\n",
    "x1=tf.placeholder(tf.float32, [None, vec_size])\n",
    "\n",
    "Wx = tf.Variable(tf.random_normal(shape=[vec_size, weight_size], dtype=tf.float32))\n",
    "Wy = tf.Variable(tf.random_normal(shape=[weight_size, weight_size], dtype=tf.float32))\n",
    "Wout = tf.Variable(tf.random_normal(shape=[weight_size, out_size], dtype=tf.float32))\n",
    "b  = tf.Variable(tf.zeros([1, weight_size], dtype=tf.float32))\n",
    "bout  = tf.Variable(tf.zeros([4, 1], dtype=tf.float32))\n",
    "\n",
    "y0 = tf.tanh(tf.matmul(x0, Wx) + b)\n",
    "y1 = tf.tanh(tf.matmul(y0, Wy) + tf.matmul(x1, Wx) + b)\n",
    "out0=tf.tanh(tf.matmul(y0,Wout)+ bout)\n",
    "out1=tf.tanh(tf.matmul(y1,Wout)+ bout) \n",
    "\n",
    "with tf.Session() as sess:\n",
    "    sess.run(tf.global_variables_initializer())\n",
    "    Y0_val, Y1_val = sess.run([out0, out1], feed_dict={x0: X0_input, x1: X1_input})\n",
    "    \n",
    "print(Y0_val[0][0])"
   ]
  }
 ],
 "metadata": {
  "kernelspec": {
   "display_name": "Python 3",
   "language": "python",
   "name": "python3"
  },
  "language_info": {
   "codemirror_mode": {
    "name": "ipython",
    "version": 3
   },
   "file_extension": ".py",
   "mimetype": "text/x-python",
   "name": "python",
   "nbconvert_exporter": "python",
   "pygments_lexer": "ipython3",
   "version": "3.6.6"
  }
 },
 "nbformat": 4,
 "nbformat_minor": 2
}
