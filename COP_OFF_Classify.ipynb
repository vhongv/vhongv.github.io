{
 "cells": [
  {
   "cell_type": "code",
   "execution_count": null,
   "metadata": {},
   "outputs": [],
   "source": [
    "import tensorflow as tf\n",
    "import numpy as np\n",
    "import matplotlib.pyplot as plt\n",
    "\n",
    "tf.reset_default_graph()\n",
    "\n",
    "DimXY = 2  # 입력 파라미터 수(=2차원)\n",
    "N_class = 3  # 라벨수\n",
    "N = 100  # 분류당 샘플수\n",
    "\n",
    "xy_data = np.loadtxt('data_cop.txt')\n",
    "label_data = np.loadtxt('label_cop.txt')\n",
    "\n",
    "X = tf.placeholder(\"float\",[None, 2])\n",
    "Y = tf.placeholder(\"float\",[None, 3])\n",
    "\n",
    "#모델정의\n",
    "\n",
    "#모델의 출력을 아래함수의 입력값으로\n",
    "Out= tf.nn.softmax()\n",
    "\n",
    "loss = tf.reduce_sum(-Y*tf.log(Out))\n",
    "\n",
    "epslion = 0.001\n",
    "optimizer = tf.train.GradientDescentOptimizer(epslion)\n",
    "train = optimizer.minimize(loss)\n",
    "\n",
    "acc = tf.reduce_mean(tf.cast(tf.equal(tf.argmax(Y,1),tf.argmax(Out,1)),tf.float32))\n",
    "\n",
    "init = tf.global_variables_initializer()\n",
    "\n",
    "saver = tf.train.Saver()\n",
    "with tf.Session() as sess:\n",
    "    sess.run(init)\n",
    "    for step in range(200000):\n",
    "        _, loss_value, accuracy = sess.run([train, loss, acc], feed_dict={X: xy_data, Y: label_data})\n",
    "        if  step % 20000 == 0:\n",
    "            print('손실 %8.4f 정확도 %.4f' %(loss_value,accuracy))\n",
    "    save_path = saver.save(sess, \"./cop02.ckpt\")"
   ]
  },
  {
   "cell_type": "code",
   "execution_count": null,
   "metadata": {},
   "outputs": [],
   "source": [
    "saver = tf.train.Saver()\n",
    "\n",
    "h = 0.01\n",
    "x_min, x_max = -1.1, 1.1\n",
    "y_min, y_max = -1.1, 1.1\n",
    "xx, yy = np.meshgrid(np.arange(x_min, x_max, h), np.arange(y_min, y_max, h))\n",
    "X_range = np.c_[xx.ravel(), yy.ravel()]\n",
    "\n",
    "sess = tf.InteractiveSession()\n",
    "saver.restore(sess, \"./cop02.ckpt\") \n",
    "score = sess.run(Out, feed_dict={X:X_range})\n",
    "sess.close()    \n",
    "\n",
    "predict_cls = np.argmax(score, axis=1)\n",
    "Z = predict_cls.reshape(xx.shape)\n",
    "plt.contourf(xx, yy, Z)\n",
    "\n",
    "markers = ['o', 'x', '^']\n",
    "for i in range(CLS_NUM):\n",
    "    plt.scatter(xy[i*N:(i+1)*N, 0], xy[i*N:(i+1)*N, 1], s=40, marker=markers[i])\n",
    "\n",
    "plt.show()"
   ]
  }
 ],
 "metadata": {
  "kernelspec": {
   "display_name": "Python 3",
   "language": "python",
   "name": "python3"
  },
  "language_info": {
   "codemirror_mode": {
    "name": "ipython",
    "version": 3
   },
   "file_extension": ".py",
   "mimetype": "text/x-python",
   "name": "python",
   "nbconvert_exporter": "python",
   "pygments_lexer": "ipython3",
   "version": "3.6.6"
  }
 },
 "nbformat": 4,
 "nbformat_minor": 2
}
